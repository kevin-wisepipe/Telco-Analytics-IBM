{
 "cells": [
  {
   "cell_type": "markdown",
   "metadata": {},
   "source": [
    "<center><h1>Telco Analytics Use Case</h1></center>"
   ]
  },
  {
   "cell_type": "markdown",
   "metadata": {},
   "source": [
    "<img src=\"https://legacytowers.com/wp-content/uploads/2015/02/header-legacy-towers-home.jpg\" alt=\"TelecommunicationsTowers\">"
   ]
  },
  {
   "cell_type": "markdown",
   "metadata": {},
   "source": [
    "Watson Wireless (WW) is a telecommunications firm serving regional markets in Brazil and Argentina. Recently WW has struggled with revenue contraction as customers move to other competitors. WW leadership has prioritized reducing customer churn in the next period and has employed the IBM Analytics and Watson Experience CoC to help.<br>\n",
    "<br>\n",
    "On the first day of the engagement, the IBM team receives a dataset from the client containing information about some WW customers. The data is anonymized due to customer privacy concerns. Additionally, the key data subject matter expert is out of town and unable to answer any questions about the data.<br>\n",
    "<br>\n",
    "You have been assigned the task of taking a first look at the data and beginning to answer several key questions:\n",
    "<br>\n",
    "<ol>\n",
    "    <li>What are the most important drivers of customer churn?</li>\n",
    "    <li>What are 2-3 recommendations for how WW can use this information to reduce customer churn in the future?</li>\n",
    "</ol>"
   ]
  },
  {
   "cell_type": "markdown",
   "metadata": {},
   "source": [
    "Lets now begin by loading our data"
   ]
  },
  {
   "cell_type": "code",
   "execution_count": 1,
   "metadata": {},
   "outputs": [],
   "source": [
    "import pandas as pd\n",
    "import numpy as np\n",
    "import warnings\n",
    "warnings.filterwarnings(\"ignore\")\n",
    "\n",
    "telco_ds_path='/Users/karimafifi/Documents/Data Science Challenges/Challenge1_WatsonTelco_Entry_Intermediate/telco.csv'\n",
    "telco_df=pd.read_csv(telco_ds_path)"
   ]
  },
  {
   "cell_type": "code",
   "execution_count": 2,
   "metadata": {},
   "outputs": [
    {
     "data": {
      "text/plain": [
       "(1000, 22)"
      ]
     },
     "execution_count": 2,
     "metadata": {},
     "output_type": "execute_result"
    }
   ],
   "source": [
    "telco_df.shape"
   ]
  },
  {
   "cell_type": "code",
   "execution_count": 3,
   "metadata": {},
   "outputs": [
    {
     "data": {
      "text/plain": [
       "Index(['region', 'tenure', 'age', 'marital', 'address', 'income', 'ed',\n",
       "       'employ', 'gender', 'tollfree', 'equip', 'callcard', 'wireless',\n",
       "       'multline', 'voice', 'pager', 'internet', 'callid', 'confer', 'ebill',\n",
       "       'custcat', 'churn'],\n",
       "      dtype='object')"
      ]
     },
     "execution_count": 3,
     "metadata": {},
     "output_type": "execute_result"
    }
   ],
   "source": [
    "telco_df.columns"
   ]
  },
  {
   "cell_type": "code",
   "execution_count": 4,
   "metadata": {},
   "outputs": [
    {
     "data": {
      "text/html": [
       "<div>\n",
       "<style scoped>\n",
       "    .dataframe tbody tr th:only-of-type {\n",
       "        vertical-align: middle;\n",
       "    }\n",
       "\n",
       "    .dataframe tbody tr th {\n",
       "        vertical-align: top;\n",
       "    }\n",
       "\n",
       "    .dataframe thead th {\n",
       "        text-align: right;\n",
       "    }\n",
       "</style>\n",
       "<table border=\"1\" class=\"dataframe\">\n",
       "  <thead>\n",
       "    <tr style=\"text-align: right;\">\n",
       "      <th></th>\n",
       "      <th>region</th>\n",
       "      <th>tenure</th>\n",
       "      <th>age</th>\n",
       "      <th>marital</th>\n",
       "      <th>address</th>\n",
       "      <th>income</th>\n",
       "      <th>ed</th>\n",
       "      <th>employ</th>\n",
       "      <th>gender</th>\n",
       "      <th>tollfree</th>\n",
       "      <th>...</th>\n",
       "      <th>wireless</th>\n",
       "      <th>multline</th>\n",
       "      <th>voice</th>\n",
       "      <th>pager</th>\n",
       "      <th>internet</th>\n",
       "      <th>callid</th>\n",
       "      <th>confer</th>\n",
       "      <th>ebill</th>\n",
       "      <th>custcat</th>\n",
       "      <th>churn</th>\n",
       "    </tr>\n",
       "  </thead>\n",
       "  <tbody>\n",
       "    <tr>\n",
       "      <th>0</th>\n",
       "      <td>2</td>\n",
       "      <td>13</td>\n",
       "      <td>44</td>\n",
       "      <td>1</td>\n",
       "      <td>9</td>\n",
       "      <td>64</td>\n",
       "      <td>4</td>\n",
       "      <td>5</td>\n",
       "      <td>0</td>\n",
       "      <td>0</td>\n",
       "      <td>...</td>\n",
       "      <td>0</td>\n",
       "      <td>0</td>\n",
       "      <td>0</td>\n",
       "      <td>0</td>\n",
       "      <td>0</td>\n",
       "      <td>0</td>\n",
       "      <td>0</td>\n",
       "      <td>0</td>\n",
       "      <td>1</td>\n",
       "      <td>1</td>\n",
       "    </tr>\n",
       "    <tr>\n",
       "      <th>1</th>\n",
       "      <td>3</td>\n",
       "      <td>11</td>\n",
       "      <td>33</td>\n",
       "      <td>1</td>\n",
       "      <td>7</td>\n",
       "      <td>136</td>\n",
       "      <td>5</td>\n",
       "      <td>5</td>\n",
       "      <td>0</td>\n",
       "      <td>1</td>\n",
       "      <td>...</td>\n",
       "      <td>1</td>\n",
       "      <td>0</td>\n",
       "      <td>1</td>\n",
       "      <td>1</td>\n",
       "      <td>0</td>\n",
       "      <td>1</td>\n",
       "      <td>1</td>\n",
       "      <td>0</td>\n",
       "      <td>4</td>\n",
       "      <td>1</td>\n",
       "    </tr>\n",
       "    <tr>\n",
       "      <th>2</th>\n",
       "      <td>3</td>\n",
       "      <td>68</td>\n",
       "      <td>52</td>\n",
       "      <td>1</td>\n",
       "      <td>24</td>\n",
       "      <td>116</td>\n",
       "      <td>1</td>\n",
       "      <td>29</td>\n",
       "      <td>1</td>\n",
       "      <td>1</td>\n",
       "      <td>...</td>\n",
       "      <td>0</td>\n",
       "      <td>0</td>\n",
       "      <td>0</td>\n",
       "      <td>0</td>\n",
       "      <td>0</td>\n",
       "      <td>1</td>\n",
       "      <td>1</td>\n",
       "      <td>0</td>\n",
       "      <td>3</td>\n",
       "      <td>0</td>\n",
       "    </tr>\n",
       "    <tr>\n",
       "      <th>3</th>\n",
       "      <td>2</td>\n",
       "      <td>33</td>\n",
       "      <td>33</td>\n",
       "      <td>0</td>\n",
       "      <td>12</td>\n",
       "      <td>33</td>\n",
       "      <td>2</td>\n",
       "      <td>0</td>\n",
       "      <td>1</td>\n",
       "      <td>0</td>\n",
       "      <td>...</td>\n",
       "      <td>0</td>\n",
       "      <td>0</td>\n",
       "      <td>0</td>\n",
       "      <td>0</td>\n",
       "      <td>0</td>\n",
       "      <td>0</td>\n",
       "      <td>0</td>\n",
       "      <td>0</td>\n",
       "      <td>1</td>\n",
       "      <td>1</td>\n",
       "    </tr>\n",
       "    <tr>\n",
       "      <th>4</th>\n",
       "      <td>2</td>\n",
       "      <td>23</td>\n",
       "      <td>30</td>\n",
       "      <td>1</td>\n",
       "      <td>9</td>\n",
       "      <td>30</td>\n",
       "      <td>1</td>\n",
       "      <td>2</td>\n",
       "      <td>0</td>\n",
       "      <td>0</td>\n",
       "      <td>...</td>\n",
       "      <td>0</td>\n",
       "      <td>0</td>\n",
       "      <td>0</td>\n",
       "      <td>0</td>\n",
       "      <td>0</td>\n",
       "      <td>1</td>\n",
       "      <td>1</td>\n",
       "      <td>0</td>\n",
       "      <td>3</td>\n",
       "      <td>0</td>\n",
       "    </tr>\n",
       "    <tr>\n",
       "      <th>5</th>\n",
       "      <td>2</td>\n",
       "      <td>41</td>\n",
       "      <td>39</td>\n",
       "      <td>0</td>\n",
       "      <td>17</td>\n",
       "      <td>78</td>\n",
       "      <td>2</td>\n",
       "      <td>16</td>\n",
       "      <td>1</td>\n",
       "      <td>1</td>\n",
       "      <td>...</td>\n",
       "      <td>0</td>\n",
       "      <td>0</td>\n",
       "      <td>0</td>\n",
       "      <td>0</td>\n",
       "      <td>0</td>\n",
       "      <td>1</td>\n",
       "      <td>0</td>\n",
       "      <td>0</td>\n",
       "      <td>3</td>\n",
       "      <td>0</td>\n",
       "    </tr>\n",
       "    <tr>\n",
       "      <th>6</th>\n",
       "      <td>3</td>\n",
       "      <td>45</td>\n",
       "      <td>22</td>\n",
       "      <td>1</td>\n",
       "      <td>2</td>\n",
       "      <td>19</td>\n",
       "      <td>2</td>\n",
       "      <td>4</td>\n",
       "      <td>1</td>\n",
       "      <td>0</td>\n",
       "      <td>...</td>\n",
       "      <td>0</td>\n",
       "      <td>1</td>\n",
       "      <td>0</td>\n",
       "      <td>0</td>\n",
       "      <td>1</td>\n",
       "      <td>0</td>\n",
       "      <td>0</td>\n",
       "      <td>1</td>\n",
       "      <td>2</td>\n",
       "      <td>1</td>\n",
       "    </tr>\n",
       "    <tr>\n",
       "      <th>7</th>\n",
       "      <td>2</td>\n",
       "      <td>38</td>\n",
       "      <td>35</td>\n",
       "      <td>0</td>\n",
       "      <td>5</td>\n",
       "      <td>76</td>\n",
       "      <td>2</td>\n",
       "      <td>10</td>\n",
       "      <td>0</td>\n",
       "      <td>1</td>\n",
       "      <td>...</td>\n",
       "      <td>1</td>\n",
       "      <td>1</td>\n",
       "      <td>1</td>\n",
       "      <td>1</td>\n",
       "      <td>1</td>\n",
       "      <td>1</td>\n",
       "      <td>1</td>\n",
       "      <td>1</td>\n",
       "      <td>4</td>\n",
       "      <td>0</td>\n",
       "    </tr>\n",
       "  </tbody>\n",
       "</table>\n",
       "<p>8 rows × 22 columns</p>\n",
       "</div>"
      ],
      "text/plain": [
       "   region  tenure  age  marital  address  income  ed  employ  gender  \\\n",
       "0       2      13   44        1        9      64   4       5       0   \n",
       "1       3      11   33        1        7     136   5       5       0   \n",
       "2       3      68   52        1       24     116   1      29       1   \n",
       "3       2      33   33        0       12      33   2       0       1   \n",
       "4       2      23   30        1        9      30   1       2       0   \n",
       "5       2      41   39        0       17      78   2      16       1   \n",
       "6       3      45   22        1        2      19   2       4       1   \n",
       "7       2      38   35        0        5      76   2      10       0   \n",
       "\n",
       "   tollfree  ...    wireless  multline  voice  pager  internet  callid  \\\n",
       "0         0  ...           0         0      0      0         0       0   \n",
       "1         1  ...           1         0      1      1         0       1   \n",
       "2         1  ...           0         0      0      0         0       1   \n",
       "3         0  ...           0         0      0      0         0       0   \n",
       "4         0  ...           0         0      0      0         0       1   \n",
       "5         1  ...           0         0      0      0         0       1   \n",
       "6         0  ...           0         1      0      0         1       0   \n",
       "7         1  ...           1         1      1      1         1       1   \n",
       "\n",
       "   confer  ebill  custcat  churn  \n",
       "0       0      0        1      1  \n",
       "1       1      0        4      1  \n",
       "2       1      0        3      0  \n",
       "3       0      0        1      1  \n",
       "4       1      0        3      0  \n",
       "5       0      0        3      0  \n",
       "6       0      1        2      1  \n",
       "7       1      1        4      0  \n",
       "\n",
       "[8 rows x 22 columns]"
      ]
     },
     "execution_count": 4,
     "metadata": {},
     "output_type": "execute_result"
    }
   ],
   "source": [
    "telco_df.head(n=8)"
   ]
  },
  {
   "cell_type": "code",
   "execution_count": 5,
   "metadata": {},
   "outputs": [
    {
     "data": {
      "text/plain": [
       "False"
      ]
     },
     "execution_count": 5,
     "metadata": {},
     "output_type": "execute_result"
    }
   ],
   "source": [
    "telco_df.isnull().values.any()"
   ]
  },
  {
   "cell_type": "markdown",
   "metadata": {},
   "source": [
    "We do not have any missing values in our dataset."
   ]
  },
  {
   "cell_type": "code",
   "execution_count": 6,
   "metadata": {},
   "outputs": [
    {
     "data": {
      "text/plain": [
       "region      int64\n",
       "tenure      int64\n",
       "age         int64\n",
       "marital     int64\n",
       "address     int64\n",
       "income      int64\n",
       "ed          int64\n",
       "employ      int64\n",
       "gender      int64\n",
       "tollfree    int64\n",
       "equip       int64\n",
       "callcard    int64\n",
       "wireless    int64\n",
       "multline    int64\n",
       "voice       int64\n",
       "pager       int64\n",
       "internet    int64\n",
       "callid      int64\n",
       "confer      int64\n",
       "ebill       int64\n",
       "custcat     int64\n",
       "churn       int64\n",
       "dtype: object"
      ]
     },
     "execution_count": 6,
     "metadata": {},
     "output_type": "execute_result"
    }
   ],
   "source": [
    "telco_df.dtypes"
   ]
  },
  {
   "cell_type": "markdown",
   "metadata": {},
   "source": [
    "We will now determine what are the most important drivers for customer churn by using ANOVA and Chi-squared tests."
   ]
  },
  {
   "cell_type": "markdown",
   "metadata": {},
   "source": [
    "Lets first copy our dataframe and make sure it has the right datatypes for applying our tests."
   ]
  },
  {
   "cell_type": "code",
   "execution_count": 7,
   "metadata": {},
   "outputs": [
    {
     "data": {
      "text/plain": [
       "region        3\n",
       "tenure       72\n",
       "age          60\n",
       "marital       2\n",
       "address      50\n",
       "income      218\n",
       "ed            5\n",
       "employ       46\n",
       "gender        2\n",
       "tollfree      2\n",
       "equip         2\n",
       "callcard      2\n",
       "wireless      2\n",
       "multline      2\n",
       "voice         2\n",
       "pager         2\n",
       "internet      2\n",
       "callid        2\n",
       "confer        2\n",
       "ebill         2\n",
       "custcat       4\n",
       "churn         2\n",
       "dtype: int64"
      ]
     },
     "execution_count": 7,
     "metadata": {},
     "output_type": "execute_result"
    }
   ],
   "source": [
    "telco_df.nunique()"
   ]
  },
  {
   "cell_type": "code",
   "execution_count": 8,
   "metadata": {},
   "outputs": [],
   "source": [
    "telco_df_2=telco_df.copy(deep=True)"
   ]
  },
  {
   "cell_type": "code",
   "execution_count": 9,
   "metadata": {},
   "outputs": [],
   "source": [
    "telco_df_2[['region', 'marital', 'ed', 'gender', 'tollfree', 'equip', 'callcard', 'wireless', 'multline', 'voice', 'pager', 'internet', 'callid', 'confer', 'ebill', 'custcat', 'churn']] = telco_df_2[['region', 'marital', 'ed', 'gender', 'tollfree', 'equip', 'callcard', 'wireless', 'multline', 'voice', 'pager', 'internet', 'callid', 'confer', 'ebill', 'custcat', 'churn']].astype('object')"
   ]
  },
  {
   "cell_type": "code",
   "execution_count": 10,
   "metadata": {},
   "outputs": [
    {
     "data": {
      "text/plain": [
       "region      object\n",
       "tenure       int64\n",
       "age          int64\n",
       "marital     object\n",
       "address      int64\n",
       "income       int64\n",
       "ed          object\n",
       "employ       int64\n",
       "gender      object\n",
       "tollfree    object\n",
       "equip       object\n",
       "callcard    object\n",
       "wireless    object\n",
       "multline    object\n",
       "voice       object\n",
       "pager       object\n",
       "internet    object\n",
       "callid      object\n",
       "confer      object\n",
       "ebill       object\n",
       "custcat     object\n",
       "churn       object\n",
       "dtype: object"
      ]
     },
     "execution_count": 10,
     "metadata": {},
     "output_type": "execute_result"
    }
   ],
   "source": [
    "telco_df_2.dtypes"
   ]
  },
  {
   "cell_type": "code",
   "execution_count": 11,
   "metadata": {},
   "outputs": [
    {
     "name": "stdout",
     "output_type": "stream",
     "text": [
      "Chi-Squared results for region: Chi-square value=0.4065922230190839, P-value=0.8160365678262682\n",
      "ANOVA results for tenure: F-score=165.16972938871626, P-value=4.303026952214625e-35\n",
      "ANOVA results for age: F-score=68.14506526287515, P-value=4.776608037150533e-16\n",
      "Chi-Squared results for marital: Chi-square value=1.3292214182508904, P-value=0.24894377551003638\n",
      "ANOVA results for address: F-score=62.66861677864216, P-value=6.482317064513396e-15\n",
      "ANOVA results for income: F-score=8.396191837732669, P-value=0.003842286490047363\n",
      "Chi-Squared results for ed: Chi-square value=42.619827561745836, P-value=1.2408518343123108e-08\n",
      "ANOVA results for employ: F-score=81.14391730523707, P-value=1.0435827245307214e-18\n",
      "Chi-Squared results for gender: Chi-square value=0.014272476139522688, P-value=0.9049050114329095\n",
      "Chi-Squared results for tollfree: Chi-square value=0.3861031611109622, P-value=0.5343548911811338\n",
      "Chi-Squared results for equip: Chi-square value=91.65658850563611, P-value=1.0310207530995974e-21\n",
      "Chi-Squared results for callcard: Chi-square value=58.19418329717196, P-value=2.374801953288419e-14\n",
      "Chi-Squared results for wireless: Chi-square value=16.808334629619388, P-value=4.135128682803518e-05\n",
      "Chi-Squared results for multline: Chi-square value=0.14156361727346234, P-value=0.7067314868314565\n",
      "Chi-Squared results for voice: Chi-square value=24.640506411487145, P-value=6.908424257362078e-07\n",
      "Chi-Squared results for pager: Chi-square value=16.271265891867394, P-value=5.489004544668666e-05\n",
      "Chi-Squared results for internet: Chi-square value=71.8815939855487, P-value=2.285054608450336e-17\n",
      "Chi-Squared results for callid: Chi-square value=0.3712995838376054, P-value=0.5422967344501297\n",
      "Chi-Squared results for confer: Chi-square value=3.9683388950832583, P-value=0.04636348787900583\n",
      "Chi-Squared results for ebill: Chi-square value=64.8004736163068, P-value=8.287922369571838e-16\n",
      "Chi-Squared results for custcat: Chi-square value=33.0136631694304, P-value=3.199370637518531e-07\n"
     ]
    }
   ],
   "source": [
    "from scipy.stats import f_oneway\n",
    "from scipy.stats import chi2_contingency\n",
    "\n",
    "chi_f_values=[]\n",
    "variables=[]\n",
    "\n",
    "for column in telco_df_2.columns.values.tolist():\n",
    "    if column != 'churn':\n",
    "        if telco_df_2[column].dtype=='object':\n",
    "            ct1=pd.crosstab(telco_df_2[column], telco_df_2['churn'])\n",
    "            colsum=ct1.sum(axis=0)\n",
    "            colpct=ct1/colsum\n",
    "            cs1=chi2_contingency(ct1)\n",
    "            variables.append(column)\n",
    "            chi_f_values.append(cs1[0])\n",
    "            print(\"Chi-Squared results for {0}: Chi-square value={1}, P-value={2}\".format(column, cs1[0], cs1[1]))\n",
    "        else:\n",
    "            grouped_test=telco_df_2[['churn', column]].groupby(['churn'])\n",
    "            f_val, p_val = f_oneway(grouped_test.get_group(0)[column], grouped_test.get_group(1)[column])\n",
    "            variables.append(column)\n",
    "            chi_f_values.append(f_val)\n",
    "            print(\"ANOVA results for {0}: F-score={1}, P-value={2}\".format(column, f_val, p_val))"
   ]
  },
  {
   "cell_type": "markdown",
   "metadata": {},
   "source": [
    "<h2 style=\"color:green;\">Drivers for customer churn</h2>"
   ]
  },
  {
   "cell_type": "code",
   "execution_count": 12,
   "metadata": {},
   "outputs": [
    {
     "data": {
      "text/plain": [
       "<matplotlib.axes._subplots.AxesSubplot at 0x1a17360748>"
      ]
     },
     "execution_count": 12,
     "metadata": {},
     "output_type": "execute_result"
    },
    {
     "data": {
      "image/png": "[encoded data removed]",
      "text/plain": [
       "<Figure size 1800x1800 with 1 Axes>"
      ]
     },
     "metadata": {},
     "output_type": "display_data"
    }
   ],
   "source": [
    "import matplotlib.pyplot as plt\n",
    "import seaborn as sns\n",
    "%matplotlib inline\n",
    "\n",
    "features=pd.DataFrame()\n",
    "features['feature'] = variables\n",
    "features['importance'] = chi_f_values\n",
    "features.sort_values(by=['importance'], ascending=True, inplace=True)\n",
    "features.set_index('feature', inplace=True)\n",
    "\n",
    "features.plot(kind='barh', figsize=(25, 25))"
   ]
  },
  {
   "cell_type": "markdown",
   "metadata": {},
   "source": [
    "The most important 3 drivers for customer churn using ANOVA and Chi-square are tenure, equip and employ."
   ]
  },
  {
   "cell_type": "markdown",
   "metadata": {},
   "source": [
    "If we use a threshold of 40 F-score and Chi-squared values and select only features above that threshold, we will end up with tenure, equip, employ, internet, age, ebill, address, callcard and ed as features to consider. custcat, voice, wireless, pager, income, confer, marital, region, tollfree, callid, multline and gender features that are below the threshold, contribute little or none to a customer's churn."
   ]
  },
  {
   "cell_type": "markdown",
   "metadata": {},
   "source": [
    "Now, we will confirm our findings and derive more insights using some visualizaitons"
   ]
  },
  {
   "cell_type": "code",
   "execution_count": 13,
   "metadata": {},
   "outputs": [],
   "source": [
    "telco_df_2_bins = telco_df_2.copy(deep=True)"
   ]
  },
  {
   "cell_type": "code",
   "execution_count": 14,
   "metadata": {},
   "outputs": [],
   "source": [
    "telco_df_2_bins['tenure_binned'] = pd.cut(telco_df_2_bins['tenure'],12)\n",
    "telco_df_2_bins['age_binned'] = pd.cut(telco_df_2_bins['age'],12)\n",
    "telco_df_2_bins['address_binned'] = pd.cut(telco_df_2_bins['address'],12)\n",
    "telco_df_2_bins['income_binned'] = pd.cut(telco_df_2_bins['income'],12)\n",
    "telco_df_2_bins['employ_binned'] = pd.cut(telco_df_2_bins['employ'],12)\n",
    "telco_df_2_bins.drop(['tenure', 'age', 'address', 'income', 'employ'], axis=1, inplace=True)"
   ]
  },
  {
   "cell_type": "code",
   "execution_count": 15,
   "metadata": {},
   "outputs": [
    {
     "data": {
      "image/png": "[encoded data removed]",
      "text/plain": [
       "<Figure size 1080x1440 with 16 Axes>"
      ]
     },
     "metadata": {},
     "output_type": "display_data"
    }
   ],
   "source": [
    "fig = plt.figure(figsize=(15,20))\n",
    "i = 1\n",
    "for column in telco_df_2_bins.columns.values.tolist():\n",
    "    if column not in ['churn', 'tenure_binned', 'age_binned', 'address_binned', 'income_binned', 'employ_binned']:\n",
    "        axes = fig.add_subplot(6, 3, i)\n",
    "        table= pd.crosstab(telco_df_2_bins[column], telco_df_2_bins['churn'])\n",
    "        plt.subplots_adjust(wspace = 0.3, hspace = 0.4)\n",
    "        plt.xlabel(column, fontsize=16)\n",
    "        table.div(table.sum(1).astype(float), axis=0).plot(kind='bar', stacked=True, ax=axes)\n",
    "        i+=1"
   ]
  },
  {
   "cell_type": "code",
   "execution_count": 16,
   "metadata": {},
   "outputs": [
    {
     "data": {
      "image/png": "[encoded data removed]",
      "text/plain": [
       "<Figure size 1080x720 with 5 Axes>"
      ]
     },
     "metadata": {},
     "output_type": "display_data"
    }
   ],
   "source": [
    "fig = plt.figure(figsize=(15,10))\n",
    "i = 1\n",
    "for column in telco_df_2_bins.columns.values.tolist():\n",
    "    if column in ['tenure_binned', 'age_binned', 'address_binned', 'income_binned', 'employ_binned']:\n",
    "        axes = fig.add_subplot(2, 3, i)\n",
    "        temp_var=telco_df_2_bins[column].copy(deep=True)\n",
    "        temp_var.sort_values(inplace=True)\n",
    "        table= pd.crosstab(temp_var, telco_df_2_bins['churn'])\n",
    "        plt.subplots_adjust(wspace = 0.3, hspace = 0.6)\n",
    "        plt.xlabel(column, fontsize=16)\n",
    "        table.div(table.sum(1).astype(float), axis=0).plot(kind='bar', stacked=True, ax=axes)\n",
    "        i+=1"
   ]
  },
  {
   "cell_type": "markdown",
   "metadata": {},
   "source": [
    "First, the bar charts confirm our initial findings that custcat, voice, wireless, pager, income, confer, marital, region, tollfree, callid, multline and gender features contribute little or none to a customer's churn and will not be good predictors when we develop our model. We will focus only on the insights from the important factors for customer churn: tenure, equip, employ, internet, age, ebill, address, callcard and ed."
   ]
  },
  {
   "cell_type": "code",
   "execution_count": 17,
   "metadata": {},
   "outputs": [
    {
     "name": "stdout",
     "output_type": "stream",
     "text": [
      "churn         0         1\n",
      "equip                    \n",
      "0      0.705234  0.372263\n",
      "1      0.294766  0.627737\n",
      "*************\n",
      "churn            0         1\n",
      "callcard                    \n",
      "0         0.252066  0.507299\n",
      "1         0.747934  0.492701\n",
      "*************\n",
      "churn            0         1\n",
      "internet                    \n",
      "0         0.712121  0.419708\n",
      "1         0.287879  0.580292\n",
      "*************\n",
      "churn         0         1\n",
      "ebill                    \n",
      "0      0.705234  0.427007\n",
      "1      0.294766  0.572993\n",
      "*************\n"
     ]
    }
   ],
   "source": [
    "ct_1=pd.crosstab(telco_df_2['equip'], telco_df_2['churn'])\n",
    "colsum_1=ct_1.sum(axis=0)\n",
    "colpct_1=ct_1/colsum_1\n",
    "print(colpct_1)\n",
    "print('*************')\n",
    "ct_1=pd.crosstab(telco_df_2['callcard'], telco_df_2['churn'])\n",
    "colsum_1=ct_1.sum(axis=0)\n",
    "colpct_1=ct_1/colsum_1\n",
    "print(colpct_1)\n",
    "print('*************')\n",
    "ct_1=pd.crosstab(telco_df_2['internet'], telco_df_2['churn'])\n",
    "colsum_1=ct_1.sum(axis=0)\n",
    "colpct_1=ct_1/colsum_1\n",
    "print(colpct_1)\n",
    "print('*************')\n",
    "ct_1=pd.crosstab(telco_df_2['ebill'], telco_df_2['churn'])\n",
    "colsum_1=ct_1.sum(axis=0)\n",
    "colpct_1=ct_1/colsum_1\n",
    "print(colpct_1)\n",
    "print('*************')"
   ]
  },
  {
   "cell_type": "markdown",
   "metadata": {},
   "source": [
    "<h2 style=\"color:green;\">Important Insights</h2>"
   ]
  },
  {
   "cell_type": "markdown",
   "metadata": {},
   "source": [
    "Customers with higher values of ed defect more. There is a positive relationship between the ed value and the defection rate.<br>\n",
    "<br>\n",
    "About 63% of customers with an equip value of 1 defect compared to about 37% of customers with an equip value of 0. This is a considerable difference.<br>\n",
    "<br>\n",
    "Customers with a callcard value of 0 has a defect rate of about 49% compared to about 51% for those with a callcard value of 1.<br>\n",
    "<br>\n",
    "Customers with an internet value of 1 has a defect rate of about 58% compared to about 42% for those with an internet value of 0.<br>\n",
    "<br>\n",
    "Customers with an ebill value of 1 has a defect rate of about 57% compared to about 43% for those with an ebill value of 1.<br>\n",
    "<br>\n",
    "Customers with a tenure value of less than 31 defect more than customers with a larger value of tenure. The defect of customer's with a tenure value of less than 31 is large and should be taken into consideration.<br>\n",
    "<br>\n",
    "Younger customers defect more than older customers. There is a nearly negative linear relationship between the age of the customer and defection rate. The younger the customer, the more likely they will defect.<br>\n",
    "<br>\n",
    "Customers with an address value of less than 19 defect more than customers with larger values of address.<br>\n",
    "<br>\n",
    "Customers with and employ value of less than 20 defect more than customers with larger values of employ."
   ]
  },
  {
   "cell_type": "markdown",
   "metadata": {},
   "source": [
    "<h2 style=\"color:green;\">2-3 recommendations for how WW can use this information to reduce customer churn in the future</h2>"
   ]
  },
  {
   "cell_type": "markdown",
   "metadata": {},
   "source": [
    "We will focus on the top 3 most significant drivers for customer churn which are tenure, equip and employ. There are multiple other factors that are important but those 3 variables are the most significant."
   ]
  },
  {
   "cell_type": "code",
   "execution_count": 18,
   "metadata": {},
   "outputs": [
    {
     "data": {
      "text/html": [
       "<div>\n",
       "<style scoped>\n",
       "    .dataframe tbody tr th:only-of-type {\n",
       "        vertical-align: middle;\n",
       "    }\n",
       "\n",
       "    .dataframe tbody tr th {\n",
       "        vertical-align: top;\n",
       "    }\n",
       "\n",
       "    .dataframe thead th {\n",
       "        text-align: right;\n",
       "    }\n",
       "</style>\n",
       "<table border=\"1\" class=\"dataframe\">\n",
       "  <thead>\n",
       "    <tr style=\"text-align: right;\">\n",
       "      <th></th>\n",
       "      <th>tenure</th>\n",
       "      <th>employ</th>\n",
       "      <th>equip</th>\n",
       "    </tr>\n",
       "  </thead>\n",
       "  <tbody>\n",
       "    <tr>\n",
       "      <th>region</th>\n",
       "      <td>0.016388</td>\n",
       "      <td>0.016335</td>\n",
       "      <td>-0.016346</td>\n",
       "    </tr>\n",
       "    <tr>\n",
       "      <th>tenure</th>\n",
       "      <td>1.000000</td>\n",
       "      <td>0.520288</td>\n",
       "      <td>-0.153177</td>\n",
       "    </tr>\n",
       "    <tr>\n",
       "      <th>age</th>\n",
       "      <td>0.490217</td>\n",
       "      <td>0.670047</td>\n",
       "      <td>-0.172481</td>\n",
       "    </tr>\n",
       "    <tr>\n",
       "      <th>marital</th>\n",
       "      <td>0.154171</td>\n",
       "      <td>-0.002891</td>\n",
       "      <td>-0.000288</td>\n",
       "    </tr>\n",
       "    <tr>\n",
       "      <th>address</th>\n",
       "      <td>0.522952</td>\n",
       "      <td>0.463291</td>\n",
       "      <td>-0.153154</td>\n",
       "    </tr>\n",
       "    <tr>\n",
       "      <th>income</th>\n",
       "      <td>0.242912</td>\n",
       "      <td>0.516349</td>\n",
       "      <td>-0.036987</td>\n",
       "    </tr>\n",
       "    <tr>\n",
       "      <th>ed</th>\n",
       "      <td>-0.109797</td>\n",
       "      <td>-0.228580</td>\n",
       "      <td>0.443835</td>\n",
       "    </tr>\n",
       "    <tr>\n",
       "      <th>employ</th>\n",
       "      <td>0.520288</td>\n",
       "      <td>1.000000</td>\n",
       "      <td>-0.204244</td>\n",
       "    </tr>\n",
       "    <tr>\n",
       "      <th>gender</th>\n",
       "      <td>0.023533</td>\n",
       "      <td>0.046016</td>\n",
       "      <td>-0.002310</td>\n",
       "    </tr>\n",
       "    <tr>\n",
       "      <th>tollfree</th>\n",
       "      <td>0.068731</td>\n",
       "      <td>0.142727</td>\n",
       "      <td>0.004262</td>\n",
       "    </tr>\n",
       "    <tr>\n",
       "      <th>equip</th>\n",
       "      <td>-0.153177</td>\n",
       "      <td>-0.204244</td>\n",
       "      <td>1.000000</td>\n",
       "    </tr>\n",
       "    <tr>\n",
       "      <th>callcard</th>\n",
       "      <td>0.462182</td>\n",
       "      <td>0.292415</td>\n",
       "      <td>-0.082244</td>\n",
       "    </tr>\n",
       "    <tr>\n",
       "      <th>wireless</th>\n",
       "      <td>0.003007</td>\n",
       "      <td>-0.013076</td>\n",
       "      <td>0.394828</td>\n",
       "    </tr>\n",
       "    <tr>\n",
       "      <th>multline</th>\n",
       "      <td>0.409630</td>\n",
       "      <td>0.118670</td>\n",
       "      <td>0.290608</td>\n",
       "    </tr>\n",
       "    <tr>\n",
       "      <th>voice</th>\n",
       "      <td>-0.005591</td>\n",
       "      <td>-0.031077</td>\n",
       "      <td>0.346781</td>\n",
       "    </tr>\n",
       "    <tr>\n",
       "      <th>pager</th>\n",
       "      <td>-0.020721</td>\n",
       "      <td>-0.015728</td>\n",
       "      <td>0.366004</td>\n",
       "    </tr>\n",
       "    <tr>\n",
       "      <th>internet</th>\n",
       "      <td>-0.140888</td>\n",
       "      <td>-0.198614</td>\n",
       "      <td>0.600359</td>\n",
       "    </tr>\n",
       "    <tr>\n",
       "      <th>callid</th>\n",
       "      <td>0.058311</td>\n",
       "      <td>0.143053</td>\n",
       "      <td>0.001373</td>\n",
       "    </tr>\n",
       "    <tr>\n",
       "      <th>confer</th>\n",
       "      <td>0.133585</td>\n",
       "      <td>0.168608</td>\n",
       "      <td>-0.011388</td>\n",
       "    </tr>\n",
       "    <tr>\n",
       "      <th>ebill</th>\n",
       "      <td>-0.157095</td>\n",
       "      <td>-0.182043</td>\n",
       "      <td>0.568914</td>\n",
       "    </tr>\n",
       "    <tr>\n",
       "      <th>custcat</th>\n",
       "      <td>0.166691</td>\n",
       "      <td>0.110011</td>\n",
       "      <td>0.212828</td>\n",
       "    </tr>\n",
       "    <tr>\n",
       "      <th>churn</th>\n",
       "      <td>-0.376828</td>\n",
       "      <td>-0.274213</td>\n",
       "      <td>0.305051</td>\n",
       "    </tr>\n",
       "  </tbody>\n",
       "</table>\n",
       "</div>"
      ],
      "text/plain": [
       "            tenure    employ     equip\n",
       "region    0.016388  0.016335 -0.016346\n",
       "tenure    1.000000  0.520288 -0.153177\n",
       "age       0.490217  0.670047 -0.172481\n",
       "marital   0.154171 -0.002891 -0.000288\n",
       "address   0.522952  0.463291 -0.153154\n",
       "income    0.242912  0.516349 -0.036987\n",
       "ed       -0.109797 -0.228580  0.443835\n",
       "employ    0.520288  1.000000 -0.204244\n",
       "gender    0.023533  0.046016 -0.002310\n",
       "tollfree  0.068731  0.142727  0.004262\n",
       "equip    -0.153177 -0.204244  1.000000\n",
       "callcard  0.462182  0.292415 -0.082244\n",
       "wireless  0.003007 -0.013076  0.394828\n",
       "multline  0.409630  0.118670  0.290608\n",
       "voice    -0.005591 -0.031077  0.346781\n",
       "pager    -0.020721 -0.015728  0.366004\n",
       "internet -0.140888 -0.198614  0.600359\n",
       "callid    0.058311  0.143053  0.001373\n",
       "confer    0.133585  0.168608 -0.011388\n",
       "ebill    -0.157095 -0.182043  0.568914\n",
       "custcat   0.166691  0.110011  0.212828\n",
       "churn    -0.376828 -0.274213  0.305051"
      ]
     },
     "execution_count": 18,
     "metadata": {},
     "output_type": "execute_result"
    }
   ],
   "source": [
    "telco_df.corr()[telco_df.corr().columns.intersection(['tenure','equip', 'employ'])]"
   ]
  },
  {
   "cell_type": "markdown",
   "metadata": {},
   "source": [
    "<h3>2-3 recommendations for how WW can use this information to reduce customer churn in the future</h3>\n",
    "<ul>\n",
    "    <li>Tenure is the most significant variable for customer churn. Customers with a tenure value of less than 31 defect more than customers with a larger value of tenure. Watson Wireless should largely target customers with a tenure value of less than 31 with certain deals.</li>\n",
    "    <li>Employ is the second most significant variable for customer churn. Customers with and employ value of less than 20 defect more than customers with larger values of employ. Watson Wireless should also target those customers. One thing to notice here is that there is a good correlation between employ and age. Targeting one variable will affect the other.</li>\n",
    "    <li>Equip is the third most significant variable. About 63% of customers with an equip value of 1 defect compared to about 37% of customers with an equip value of 0. Watson Wireless should target customers with equip value of 1 to reduce defection rate.</li>\n",
    "</ul>"
   ]
  },
  {
   "cell_type": "code",
   "execution_count": 19,
   "metadata": {},
   "outputs": [
    {
     "data": {
      "text/plain": [
       "<matplotlib.axes._subplots.AxesSubplot at 0x1a1d38a898>"
      ]
     },
     "execution_count": 19,
     "metadata": {},
     "output_type": "execute_result"
    },
    {
     "data": {
      "image/png": "[encoded data removed]",
      "text/plain": [
       "<Figure size 432x288 with 1 Axes>"
      ]
     },
     "metadata": {},
     "output_type": "display_data"
    }
   ],
   "source": [
    "sns.countplot(telco_df_2['churn'])"
   ]
  },
  {
   "cell_type": "markdown",
   "metadata": {},
   "source": [
    "The data is highly biased towards the class label (1). We are not going to remove any observations because our dataset is small."
   ]
  },
  {
   "cell_type": "markdown",
   "metadata": {},
   "source": [
    "<h2 style=\"color:green;\">Modeling</h2>"
   ]
  },
  {
   "cell_type": "markdown",
   "metadata": {},
   "source": [
    "Also, the questions are answered without models, we will develop a model to predict whether a customer will defect or not because we can :D"
   ]
  },
  {
   "cell_type": "code",
   "execution_count": 20,
   "metadata": {},
   "outputs": [],
   "source": [
    "from sklearn.ensemble import RandomForestClassifier\n",
    "from sklearn.svm import SVC\n",
    "from sklearn.ensemble.gradient_boosting import GradientBoostingClassifier\n",
    "from sklearn.feature_selection import SelectKBest\n",
    "from sklearn.model_selection import StratifiedKFold\n",
    "from sklearn.model_selection import GridSearchCV\n",
    "from sklearn.model_selection import cross_val_score\n",
    "from sklearn.feature_selection import SelectFromModel\n",
    "from sklearn.linear_model import LogisticRegression, LogisticRegressionCV\n",
    "from scipy.stats import zscore"
   ]
  },
  {
   "cell_type": "markdown",
   "metadata": {},
   "source": [
    "We will first perform z-score normalization for the following columns: tenure, age, address, income and employ"
   ]
  },
  {
   "cell_type": "code",
   "execution_count": 21,
   "metadata": {},
   "outputs": [],
   "source": [
    "for column in telco_df.columns.values.tolist():\n",
    "    if column in ['tenure', 'age', 'address', 'income', 'employ']:\n",
    "        telco_df[column]=(telco_df[column] - telco_df[column].mean())/telco_df[column].std(ddof=0)"
   ]
  },
  {
   "cell_type": "markdown",
   "metadata": {},
   "source": [
    "We will not include the lowest seven factors than contribute to customer churn in our model"
   ]
  },
  {
   "cell_type": "code",
   "execution_count": 22,
   "metadata": {},
   "outputs": [
    {
     "name": "stdout",
     "output_type": "stream",
     "text": [
      "(1000, 14)\n"
     ]
    }
   ],
   "source": [
    "train = telco_df.drop(['churn', 'marital', 'region', 'tollfree', 'callid', 'multline', 'gender', 'confer'], axis=1)\n",
    "target = telco_df['churn']\n",
    "print(train.shape)"
   ]
  },
  {
   "cell_type": "markdown",
   "metadata": {},
   "source": [
    "Lets find out what model will perform best using 5-fold cross validation. We will use F1 score as our scoring parameter since our data is highly biased towards a certain class label and accuracy won't be a good measure for how good is our model."
   ]
  },
  {
   "cell_type": "code",
   "execution_count": 23,
   "metadata": {},
   "outputs": [],
   "source": [
    "log_reg = LogisticRegression()\n",
    "log_reg_cv = LogisticRegressionCV()\n",
    "svm_rbf = SVC(kernel='rbf', max_iter=200)\n",
    "svm_linear = SVC(kernel='linear', max_iter=200)\n",
    "rf = RandomForestClassifier(n_estimators=200, max_features='sqrt')\n",
    "g_boost = GradientBoostingClassifier(n_estimators=200, max_features='sqrt')\n",
    "\n",
    "models = [log_reg, log_reg_cv, svm_rbf, svm_linear, rf, g_boost]"
   ]
  },
  {
   "cell_type": "code",
   "execution_count": 24,
   "metadata": {},
   "outputs": [
    {
     "name": "stdout",
     "output_type": "stream",
     "text": [
      "CV score of <class 'sklearn.linear_model.logistic.LogisticRegression'> = 0.5166283326624882\n",
      "-----------\n",
      "CV score of <class 'sklearn.linear_model.logistic.LogisticRegressionCV'> = 0.5159387283102634\n",
      "-----------\n",
      "CV score of <class 'sklearn.svm.classes.SVC'> = 0.4600245410720718\n",
      "-----------\n",
      "CV score of <class 'sklearn.svm.classes.SVC'> = 0.4337057109696339\n",
      "-----------\n",
      "CV score of <class 'sklearn.ensemble.forest.RandomForestClassifier'> = 0.42862991803136274\n",
      "-----------\n",
      "CV score of <class 'sklearn.ensemble.gradient_boosting.GradientBoostingClassifier'> = 0.4575014257659176\n",
      "-----------\n"
     ]
    }
   ],
   "source": [
    "for model in models:\n",
    "    xval = cross_val_score(model, train, target, cv = 5, scoring='f1')\n",
    "    print('CV score of {0} = {1}'.format(model.__class__, np.mean(xval)))\n",
    "    print('-----------')"
   ]
  },
  {
   "cell_type": "markdown",
   "metadata": {},
   "source": [
    "The results of our models using the 5-fold cross validation are close for multiple models. We will use Logistic Regression as simpler is always better ;)"
   ]
  },
  {
   "cell_type": "code",
   "execution_count": 31,
   "metadata": {},
   "outputs": [
    {
     "name": "stdout",
     "output_type": "stream",
     "text": [
      "0.785\n"
     ]
    }
   ],
   "source": [
    "from sklearn.model_selection import train_test_split\n",
    "\n",
    "x_train, x_test, y_train, y_test = train_test_split(train, target, test_size=0.2)\n",
    "log_reg = LogisticRegression()\n",
    "log_reg.fit(x_train, y_train)\n",
    "y_pred=log_reg.predict(x_test)\n",
    "print(log_reg.score(x_test, y_test))"
   ]
  },
  {
   "cell_type": "markdown",
   "metadata": {},
   "source": [
    "We achieved about 80% classification accuracy. Lets now output the confusion matrix."
   ]
  },
  {
   "cell_type": "code",
   "execution_count": 32,
   "metadata": {},
   "outputs": [],
   "source": [
    "import itertools\n",
    "from sklearn.metrics import confusion_matrix\n",
    "from sklearn.metrics import precision_recall_fscore_support\n",
    "\n",
    "cnf_mtrx=confusion_matrix(y_test, y_pred, labels=log_reg.classes_)"
   ]
  },
  {
   "cell_type": "code",
   "execution_count": 33,
   "metadata": {},
   "outputs": [],
   "source": [
    "def plot_confusion_matrix(cm, classes,\n",
    "                          normalize=False,\n",
    "                          title='Confusion matrix',\n",
    "                          cmap=plt.cm.Blues):\n",
    "    \"\"\"\n",
    "    This function prints and plots the confusion matrix.\n",
    "    Normalization can be applied by setting `normalize=True`.\n",
    "    \"\"\"\n",
    "    if normalize:\n",
    "        cm = cm.astype('float') / cm.sum(axis=1)[:, np.newaxis]\n",
    "        print(\"Normalized confusion matrix\")\n",
    "    else:\n",
    "        print('Confusion matrix, without normalization')\n",
    "\n",
    "    print(cm)\n",
    "\n",
    "    plt.imshow(cm, interpolation='nearest', cmap=cmap)\n",
    "    plt.title(title)\n",
    "    plt.colorbar()\n",
    "    tick_marks = np.arange(len(classes))\n",
    "    plt.xticks(tick_marks, classes, rotation=45)\n",
    "    plt.yticks(tick_marks, classes)\n",
    "\n",
    "    fmt = '.2f' if normalize else 'd'\n",
    "    thresh = cm.max() / 2.\n",
    "    for i, j in itertools.product(range(cm.shape[0]), range(cm.shape[1])):\n",
    "        plt.text(j, i, format(cm[i, j], fmt),\n",
    "                 horizontalalignment=\"center\",\n",
    "                 color=\"white\" if cm[i, j] > thresh else \"black\")\n",
    "\n",
    "    plt.tight_layout()\n",
    "    plt.ylabel('True label')\n",
    "    plt.xlabel('Predicted label')"
   ]
  },
  {
   "cell_type": "code",
   "execution_count": 34,
   "metadata": {},
   "outputs": [
    {
     "name": "stdout",
     "output_type": "stream",
     "text": [
      "Confusion matrix, without normalization\n",
      "[[132  17]\n",
      " [ 26  25]]\n"
     ]
    },
    {
     "data": {
      "image/png": "[encoded data removed]",
      "text/plain": [
       "<Figure size 432x288 with 2 Axes>"
      ]
     },
     "metadata": {},
     "output_type": "display_data"
    }
   ],
   "source": [
    "plot_confusion_matrix(cnf_mtrx, classes=log_reg.classes_, normalize=False, title='Normalized confusion matrix')"
   ]
  },
  {
   "cell_type": "markdown",
   "metadata": {},
   "source": [
    "Since our data is highly biased towards a certain class label, we need to calculate the precision, recall and f1 score to determine how good is our model."
   ]
  },
  {
   "cell_type": "code",
   "execution_count": 35,
   "metadata": {},
   "outputs": [
    {
     "name": "stdout",
     "output_type": "stream",
     "text": [
      "(Precision, Recall, F1 score)\n"
     ]
    },
    {
     "data": {
      "text/plain": [
       "(0.5952380952380952, 0.49019607843137253, 0.5376344086021505, None)"
      ]
     },
     "execution_count": 35,
     "metadata": {},
     "output_type": "execute_result"
    }
   ],
   "source": [
    "print('(Precision, Recall, F1 score)')\n",
    "precision_recall_fscore_support(y_test, y_pred, average='binary')"
   ]
  }
 ],
 "metadata": {
  "kernelspec": {
   "display_name": "Python 3",
   "language": "python",
   "name": "python3"
  },
  "language_info": {
   "codemirror_mode": {
    "name": "ipython",
    "version": 3
   },
   "file_extension": ".py",
   "mimetype": "text/x-python",
   "name": "python",
   "nbconvert_exporter": "python",
   "pygments_lexer": "ipython3",
   "version": "3.6.5"
  }
 },
 "nbformat": 4,
 "nbformat_minor": 2
}
